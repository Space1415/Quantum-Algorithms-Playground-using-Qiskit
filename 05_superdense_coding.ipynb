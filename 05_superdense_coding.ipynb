from qiskit import QuantumCircuit, Aer, execute
from qiskit.visualization import plot_histogram
import matplotlib.pyplot as plt

qc = QuantumCircuit(2, 2)
qc.h(0)
qc.cx(0, 1)

# Suppose Alice wants to send "10" to Bob:
qc.x(0)  # Bit flip

qc.cx(0, 1)
qc.h(0)
qc.measure([0, 1], [0, 1])

simulator = Aer.get_backend('qasm_simulator')
result = execute(qc, simulator, shots=1024).result()
counts = result.get_counts()
print("Superdense coding result:", counts)
plot_histogram(counts)
plt.show()

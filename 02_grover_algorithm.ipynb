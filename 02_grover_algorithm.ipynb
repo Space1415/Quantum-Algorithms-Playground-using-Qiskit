
from qiskit import QuantumCircuit, Aer, transpile, assemble, execute
from qiskit.visualization import plot_histogram
import matplotlib.pyplot as plt

# Create a 2-qubit circuit for finding |11>
circuit = QuantumCircuit(2, 2)
circuit.h([0, 1])  # Apply Hadamard gates

# Oracle for |11>
circuit.cz(0, 1)

# Diffusion operator
circuit.h([0, 1])
circuit.x([0, 1])
circuit.h(1)
circuit.cx(0, 1)
circuit.h(1)
circuit.x([0, 1])
circuit.h([0, 1])

circuit.measure([0, 1], [0, 1])

simulator = Aer.get_backend('qasm_simulator')
result = execute(circuit, simulator, shots=1024).result()
counts = result.get_counts()

print("Grover result:", counts)
plot_histogram(counts)
plt.show()
"""

# 03_shor_algorithm.ipynb
"""
from qiskit.algorithms import Shor
from qiskit.utils import QuantumInstance
from qiskit import Aer

shor = Shor()
quantum_instance = QuantumInstance(backend=Aer.get_backend("aer_simulator"))
result = shor.factor(N=15, quantum_instance=quantum_instance)
print("Shor's algorithm result:", result.factors)
